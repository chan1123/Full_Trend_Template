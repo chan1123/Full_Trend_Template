{
 "cells": [
  {
   "cell_type": "code",
   "execution_count": 14,
   "metadata": {},
   "outputs": [],
   "source": [
    "import pandas as pd\n",
    "import time\n",
    "import os\n",
    "import requests\n",
    "import datetime\n",
    "from bs4 import BeautifulSoup\n",
    "from selenium import webdriver\n",
    "from selenium.webdriver.common.by import By\n",
    "from selenium.webdriver.support.ui import WebDriverWait\n",
    "from selenium.webdriver.support import expected_conditions as EC\n",
    "import csv \n",
    "\n",
    "\n",
    "def stockcharts_charts(ticker = 'tsla'):\n",
    "    \"\"\"\n",
    "    Save images to stockcharts charts\n",
    "    Daily_6months:\n",
    "    https://stockcharts.com/h-sc/ui?s=TSLA&p=D&yr=0&mn=6&dy=0&id=p50000521493\n",
    "    Daily_1year:\n",
    "    https://stockcharts.com/h-sc/ui?s=A&p=D&yr=1&mn=0&dy=0&id=p38017426247\n",
    "    Weekly_1year:\n",
    "    https://stockcharts.com/h-sc/ui?s=A&p=W&yr=1&mn=0&dy=0&id=p56174773380\n",
    "    \"\"\"\n",
    "\n",
    "    ticker = ticker.upper()\n",
    "    base_url = 'https://stockcharts.com/h-sc/ui?s='\n",
    "    timeframe = {'daily_6m': '&p=D&yr=0&mn=6&dy=0&id=p69441474027', \n",
    "                 'daily_1y': '&p=D&yr=1&mn=0&dy=0&id=p69441474027', \n",
    "                 'weekly_1y':'&p=W&yr=1&mn=0&dy=0&id=p69441474027'}\n",
    "    \n",
    "    date_time = datetime.datetime.now().strftime(\"%Y%m%d\")\n",
    "    directory = './stockcharts_charts/'\n",
    "    folder = directory + date_time + '_' + ticker\n",
    "    \n",
    "    if os.path.exists(folder):\n",
    "        return \"This folder already exists\"\n",
    "    \n",
    "    os.makedirs(folder)\n",
    "    \n",
    "    driver = webdriver.Chrome(executable_path='./chromedriver')\n",
    "    for item in timeframe:\n",
    "\n",
    "        filename = folder + '/' + ticker + '_' + date_time + '_' + item + '.png'\n",
    "        url = base_url + ticker + timeframe[item]\n",
    "        \n",
    "        my_headers = {'User-Agent': 'Mozilla/5.0 (Macintosh; Intel Mac OS X 10_14_6) \\\n",
    "                          AppleWebKit/537.36 (KHTML, like Gecko) Chrome', \n",
    "                          'Accept-Language': 'en-gb', \n",
    "                          'Accept-Encoding': 'gzip, deflate, br', \n",
    "                          'Accept': 'text/html,application/xhtml+xml,application/xml;q=0.9, \\\n",
    "                          image/avif,image/webp,image/apng,*/*;q=0.8,application/signed-exchange;v=b3;q=0.9', \n",
    "                          'Referer': url}\n",
    "        driver.get(url)\n",
    "        try: \n",
    "            element = WebDriverWait(driver, 10).until(\n",
    "                        EC.presence_of_element_located((By.ID, 'chartImg')))\n",
    "        finally:\n",
    "            image = driver.find_element_by_id('chartImg')\n",
    "            src = image.get_attribute(\"src\")\n",
    "            print(src)\n",
    "\n",
    "        response = requests.get(url = src, headers = my_headers)\n",
    "        file = open(filename, \"wb\")\n",
    "        file.write(response.content)\n",
    "        file.close()    \n",
    "\n",
    "        time.sleep(8)\n",
    "\n",
    "    driver.close()\n",
    "    return 'Downloaded'\n",
    "\n",
    "    \n",
    "    "
   ]
  },
  {
   "cell_type": "code",
   "execution_count": 17,
   "metadata": {},
   "outputs": [
    {
     "name": "stdout",
     "output_type": "stream",
     "text": [
      "https://stockcharts.com/c-sc/sc?s=TSM&p=D&yr=0&mn=6&dy=0&i=p69441474027&r=1617517683297\n",
      "https://stockcharts.com/c-sc/sc?s=TSM&p=D&yr=1&mn=0&dy=0&i=p69441474027&r=1617517695662\n",
      "https://stockcharts.com/c-sc/sc?s=TSM&p=W&yr=1&mn=0&dy=0&i=p69441474027&r=1617517707070\n"
     ]
    },
    {
     "data": {
      "text/plain": [
       "'Downloaded'"
      ]
     },
     "execution_count": 17,
     "metadata": {},
     "output_type": "execute_result"
    }
   ],
   "source": [
    "stockcharts_charts('TSM')"
   ]
  },
  {
   "cell_type": "code",
   "execution_count": null,
   "metadata": {},
   "outputs": [],
   "source": []
  }
 ],
 "metadata": {
  "kernelspec": {
   "display_name": "Python 3",
   "language": "python",
   "name": "python3"
  },
  "language_info": {
   "codemirror_mode": {
    "name": "ipython",
    "version": 3
   },
   "file_extension": ".py",
   "mimetype": "text/x-python",
   "name": "python",
   "nbconvert_exporter": "python",
   "pygments_lexer": "ipython3",
   "version": "3.8.3"
  }
 },
 "nbformat": 4,
 "nbformat_minor": 4
}
